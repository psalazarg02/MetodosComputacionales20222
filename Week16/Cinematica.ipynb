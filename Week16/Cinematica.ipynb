{
 "cells": [
  {
   "cell_type": "code",
   "execution_count": 1,
   "id": "867ca126",
   "metadata": {},
   "outputs": [],
   "source": [
    "import numpy as np\n",
    "import matplotlib.pyplot as plt"
   ]
  },
  {
   "cell_type": "code",
   "execution_count": 2,
   "id": "4aea2d62",
   "metadata": {},
   "outputs": [],
   "source": [
    "class Particle:\n",
    "    \n",
    "    def __init__(self,r0,v0,t,Id,beta,k):\n",
    "        \n",
    "        self.N = len(t)\n",
    "        self.dt = t[1] - t[0]\n",
    "        \n",
    "        self.r = np.zeros(( N,2 ))\n",
    "        self.v = np.zeros(( N,2 ))\n",
    "        self.a = np.zeros(( N,2 ))\n",
    "        \n",
    "        self.r[0] = r0\n",
    "        self.v[0] = v0\n",
    "        self.Id = Id\n",
    "        self.beta = beta\n",
    "        self.k = k\n",
    "        self.g = np.array([0.,-9.81])\n",
    "        \n",
    "        self.a[0] = self.GetA(v0,r0)\n",
    "        \n",
    "    def GetA(self,v,x):\n",
    "        return -self.beta*v - self.k*x\n",
    "    \n",
    "    \n",
    "    def Evolucion(self):\n",
    "        \n",
    "        for i in range(1,self.N):\n",
    "            \n",
    "            k1 = self.v[i-1]\n",
    "            k2 = self.GetA(self.v[i-1],self.r[i-1])\n",
    "            self.a[i] = k2\n",
    "            \n",
    "            self.r[i] = self.r[i-1] + k1*self.dt\n",
    "            self.v[i] = self.v[i-1] + k2*self.dt"
   ]
  },
  {
   "cell_type": "code",
   "execution_count": 9,
   "id": "37fe9971",
   "metadata": {},
   "outputs": [],
   "source": [
    "N = 1000\n",
    "t = np.linspace(0,10,N)"
   ]
  },
  {
   "cell_type": "code",
   "execution_count": 10,
   "id": "2c7a962b",
   "metadata": {},
   "outputs": [],
   "source": [
    "theta = 40*np.pi/180\n",
    "v0_ = 20\n",
    "\n",
    "r0 = np.array([0,1])\n",
    "v0 = np.array([v0_*np.cos(theta),v0_*np.sin(theta)])\n",
    "v0 = np.array([0.,0.])"
   ]
  },
  {
   "cell_type": "code",
   "execution_count": 17,
   "id": "db317601",
   "metadata": {},
   "outputs": [],
   "source": [
    "p1 = Particle(r0,v0,t,0,0.9,10)\n",
    "p1.Evolucion()"
   ]
  },
  {
   "cell_type": "code",
   "execution_count": 18,
   "id": "ec8dac3e",
   "metadata": {},
   "outputs": [],
   "source": [
    "#p2 = Particle(r0,v0,t,1,1.1)\n",
    "#p2.Evolucion()"
   ]
  },
  {
   "cell_type": "code",
   "execution_count": 19,
   "id": "c97388b0",
   "metadata": {},
   "outputs": [
    {
     "data": {
      "text/plain": [
       "[<matplotlib.lines.Line2D at 0x7fef8c62a9d0>]"
      ]
     },
     "execution_count": 19,
     "metadata": {},
     "output_type": "execute_result"
    },
    {
     "data": {
      "image/png": "[encoded data removed]",
      "text/plain": [
       "<Figure size 432x288 with 1 Axes>"
      ]
     },
     "metadata": {
      "needs_background": "light"
     },
     "output_type": "display_data"
    }
   ],
   "source": [
    "plt.plot(t,p1.r[:,1])"
   ]
  },
  {
   "cell_type": "code",
   "execution_count": 20,
   "id": "e9a2425b",
   "metadata": {},
   "outputs": [
    {
     "ename": "NameError",
     "evalue": "name 'p2' is not defined",
     "output_type": "error",
     "traceback": [
      "\u001b[0;31m---------------------------------------------------------------------------\u001b[0m",
      "\u001b[0;31mNameError\u001b[0m                                 Traceback (most recent call last)",
      "Input \u001b[0;32mIn [20]\u001b[0m, in \u001b[0;36m<cell line: 2>\u001b[0;34m()\u001b[0m\n\u001b[1;32m      1\u001b[0m plt\u001b[38;5;241m.\u001b[39mplot(p1\u001b[38;5;241m.\u001b[39mr[:,\u001b[38;5;241m0\u001b[39m],p1\u001b[38;5;241m.\u001b[39mr[:,\u001b[38;5;241m1\u001b[39m])\n\u001b[0;32m----> 2\u001b[0m plt\u001b[38;5;241m.\u001b[39mplot(\u001b[43mp2\u001b[49m\u001b[38;5;241m.\u001b[39mr[:,\u001b[38;5;241m0\u001b[39m],p2\u001b[38;5;241m.\u001b[39mr[:,\u001b[38;5;241m1\u001b[39m])\n",
      "\u001b[0;31mNameError\u001b[0m: name 'p2' is not defined"
     ]
    },
    {
     "data": {
      "image/png": "[encoded data removed]",
      "text/plain": [
       "<Figure size 432x288 with 1 Axes>"
      ]
     },
     "metadata": {
      "needs_background": "light"
     },
     "output_type": "display_data"
    }
   ],
   "source": [
    "plt.plot(p1.r[:,0],p1.r[:,1])\n",
    "plt.plot(p2.r[:,0],p2.r[:,1])"
   ]
  },
  {
   "cell_type": "code",
   "execution_count": null,
   "id": "d710bbb4",
   "metadata": {},
   "outputs": [],
   "source": [
    "plt.plot(t,p2.v[:,0])\n",
    "plt.plot(t,p2.v[:,1])"
   ]
  },
  {
   "cell_type": "code",
   "execution_count": null,
   "id": "a465c484",
   "metadata": {},
   "outputs": [],
   "source": [
    "plt.plot(t,p2.a[:,0])\n",
    "plt.plot(t,p2.a[:,1])"
   ]
  },
  {
   "cell_type": "code",
   "execution_count": null,
   "id": "90e87dde",
   "metadata": {},
   "outputs": [],
   "source": []
  }
 ],
 "metadata": {
  "kernelspec": {
   "display_name": "Python 3 (ipykernel)",
   "language": "python",
   "name": "python3"
  },
  "language_info": {
   "codemirror_mode": {
    "name": "ipython",
    "version": 3
   },
   "file_extension": ".py",
   "mimetype": "text/x-python",
   "name": "python",
   "nbconvert_exporter": "python",
   "pygments_lexer": "ipython3",
   "version": "3.9.12"
  }
 },
 "nbformat": 4,
 "nbformat_minor": 5
}
